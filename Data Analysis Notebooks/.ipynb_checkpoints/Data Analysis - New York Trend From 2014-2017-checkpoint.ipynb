{
 "cells": [
  {
   "cell_type": "markdown",
   "metadata": {},
   "source": [
    "# Load Dependencies"
   ]
  },
  {
   "cell_type": "code",
   "execution_count": 4,
   "metadata": {},
   "outputs": [],
   "source": [
    "#%matplotlib notebook\n",
    "%matplotlib inline\n",
    "\n",
    "#dependencies and setup\n",
    "\n",
    "import matplotlib.pyplot as plt\n",
    "import pandas as pd\n",
    "import numpy as np\n",
    "import os"
   ]
  },
  {
   "cell_type": "markdown",
   "metadata": {},
   "source": [
    "# Files to Load"
   ]
  },
  {
   "cell_type": "code",
   "execution_count": 5,
   "metadata": {},
   "outputs": [
    {
     "name": "stderr",
     "output_type": "stream",
     "text": [
      "/Users/parinmody/Desktop/anaconda3/envs/PythonData/lib/python3.7/site-packages/IPython/core/interactiveshell.py:3020: DtypeWarning: Columns (20) have mixed types. Specify dtype option on import or set low_memory=False.\n",
      "  interactivity=interactivity, compiler=compiler, result=result)\n"
     ]
    }
   ],
   "source": [
    "#Files to Load\n",
    "cleaned_poverty_df = 'Cleaned_Data/cleaned_poverty_df.csv'\n",
    "cleaned_unemployment_df = 'Cleaned_Data/cleaned_unemployment_df.csv'\n",
    "cleaned_unemployment_rate_df = 'Cleaned_Data/cleaned_unemployment_rate_df.csv'\n",
    "crime_df = 'Cleaned_Data/crime_df.csv'\n",
    "crime_police_merged = 'Cleaned_Data/crime_police_merged.csv'\n",
    "police_count_2014_2017_df = 'Cleaned_Data/police_count_2014_2017_df.csv'\n",
    "police_df = 'Cleaned_Data/police_df.csv'\n",
    "cleaned_ny_unemployment_rate = 'Cleaned_Data/cleaned_ny_unemployment_rate.csv'\n",
    "cleaned_ohio_unemployment_rate = 'Cleaned_Data/cleaned_ohio_unemployment_rate.csv'\n",
    "\n",
    "#Files to Read\n",
    "cleaned_poverty_df = pd.read_csv(cleaned_poverty_df)\n",
    "cleaned_unemployment_df = pd.read_csv(cleaned_unemployment_df)\n",
    "cleaned_unemployment_rate_df = pd.read_csv(cleaned_unemployment_rate_df)\n",
    "crime_df = pd.read_csv(crime_df)\n",
    "crime_police_merged = pd.read_csv(crime_police_merged)\n",
    "police_count_2014_2017_df = pd.read_csv(police_count_2014_2017_df)\n",
    "police_df = pd.read_csv(police_df)\n",
    "cleaned_ny_unemployment_rate = pd.read_csv(cleaned_ny_unemployment_rate)\n",
    "cleaned_ohio_unemployment_rate = pd.read_csv(cleaned_ohio_unemployment_rate)\n"
   ]
  },
  {
   "cell_type": "markdown",
   "metadata": {},
   "source": [
    "# New York Crime Trend From 2014-2017"
   ]
  },
  {
   "cell_type": "code",
   "execution_count": 8,
   "metadata": {},
   "outputs": [
    {
     "data": {
      "text/html": [
       "<div>\n",
       "<style scoped>\n",
       "    .dataframe tbody tr th:only-of-type {\n",
       "        vertical-align: middle;\n",
       "    }\n",
       "\n",
       "    .dataframe tbody tr th {\n",
       "        vertical-align: top;\n",
       "    }\n",
       "\n",
       "    .dataframe thead th {\n",
       "        text-align: right;\n",
       "    }\n",
       "</style>\n",
       "<table border=\"1\" class=\"dataframe\">\n",
       "  <thead>\n",
       "    <tr style=\"text-align: right;\">\n",
       "      <th></th>\n",
       "      <th>Year</th>\n",
       "      <th>Total Offender Count</th>\n",
       "    </tr>\n",
       "  </thead>\n",
       "  <tbody>\n",
       "    <tr>\n",
       "      <th>0</th>\n",
       "      <td>2014</td>\n",
       "      <td>626</td>\n",
       "    </tr>\n",
       "    <tr>\n",
       "      <th>1</th>\n",
       "      <td>2015</td>\n",
       "      <td>575</td>\n",
       "    </tr>\n",
       "    <tr>\n",
       "      <th>2</th>\n",
       "      <td>2016</td>\n",
       "      <td>628</td>\n",
       "    </tr>\n",
       "    <tr>\n",
       "      <th>3</th>\n",
       "      <td>2017</td>\n",
       "      <td>619</td>\n",
       "    </tr>\n",
       "  </tbody>\n",
       "</table>\n",
       "</div>"
      ],
      "text/plain": [
       "   Year  Total Offender Count\n",
       "0  2014                   626\n",
       "1  2015                   575\n",
       "2  2016                   628\n",
       "3  2017                   619"
      ]
     },
     "execution_count": 8,
     "metadata": {},
     "output_type": "execute_result"
    }
   ],
   "source": [
    "crime_df.head()\n",
    "\n",
    "#create new dataframe with columns needed for line graph\n",
    "df = pd.DataFrame(crime_df, columns = ['Year', 'State', 'Total Offender Count'])\n",
    "\n",
    "#select only years 2014-2017\n",
    "only_year_2014_2017_2 = (df[\"Year\"] >= 2014) & (df[\"Year\"] <= 2017)\n",
    "\n",
    "crime_df_2 = df.loc[only_year_2014_2017_2]\n",
    "\n",
    "#select only New York from the dataframe\n",
    "only_newyork = crime_df_2.loc[crime_df_2[\"State\"] == \"New York\", :]\n",
    "\n",
    "#only_newyork.head()\n",
    "\n",
    "#groupby the year\n",
    "groupby_year_2 = only_newyork.groupby([\"Year\"])\n",
    "\n",
    "#take the sum of total offender count after using groupby\n",
    "crime_count_2014_2 = groupby_year_2[\"Total Offender Count\"].sum()\n",
    "\n",
    "#convert from series to dataframe\n",
    "crime_count_2014_2 = pd.DataFrame(crime_count_2014_2)\n",
    "\n",
    "#reset the index\n",
    "crime_count_2014_2 = crime_count_2014_2.reset_index()\n",
    "crime_count_2014_2\n"
   ]
  },
  {
   "cell_type": "code",
   "execution_count": 12,
   "metadata": {},
   "outputs": [
    {
     "data": {
      "image/png": "[encoded data removed]",
      "text/plain": [
       "<Figure size 576x360 with 1 Axes>"
      ]
     },
     "metadata": {
      "needs_background": "light"
     },
     "output_type": "display_data"
    }
   ],
   "source": [
    "############################################### Graph #####################################################\n",
    "#define plot area\n",
    "plt.figure(figsize=(8,5))\n",
    "\n",
    "#set the x axis\n",
    "years = (crime_count_2014_2[\"Year\"])\n",
    "\n",
    "#set the y axis\n",
    "crime = (crime_count_2014_2[\"Total Offender Count\"])\n",
    "\n",
    "#plot the bar graph for New York\n",
    "\n",
    "bar_chart = plt.bar(years, crime, color=\"r\", align=\"center\")\n",
    "\n",
    "def label_function(labels):\n",
    "   for label in labels:\n",
    "       height = label.get_height()\n",
    "       label_position = height - 50\n",
    "       plt.text(label.get_x() + label.get_width()/2., label_position,\n",
    "                height, color='white', ha='center', va='bottom')\n",
    "\n",
    "label_function(bar_chart)\n",
    "\n",
    "\n",
    "#set tick locations\n",
    "plt.xticks(np.arange(min(years), max(years+1), 1.0))\n",
    "\n",
    "#set labels\n",
    "plt.title(\"New York vs. Hate Crime Rate\", fontsize=14, fontweight = \"bold\")\n",
    "plt.xlabel(\"Year\", fontsize=12, fontweight = \"bold\")\n",
    "plt.ylabel(\"Hate Crime Count\", fontsize=12, fontweight = \"bold\")\n",
    "\n",
    "#save figure\n",
    "plt.savefig(\"Images/NY_CrimeRate.png\")"
   ]
  },
  {
   "cell_type": "code",
   "execution_count": 10,
   "metadata": {},
   "outputs": [
    {
     "data": {
      "text/html": [
       "<div>\n",
       "<style scoped>\n",
       "    .dataframe tbody tr th:only-of-type {\n",
       "        vertical-align: middle;\n",
       "    }\n",
       "\n",
       "    .dataframe tbody tr th {\n",
       "        vertical-align: top;\n",
       "    }\n",
       "\n",
       "    .dataframe thead th {\n",
       "        text-align: right;\n",
       "    }\n",
       "</style>\n",
       "<table border=\"1\" class=\"dataframe\">\n",
       "  <thead>\n",
       "    <tr style=\"text-align: right;\">\n",
       "      <th></th>\n",
       "      <th>Date</th>\n",
       "      <th>NY Unemployment Rate</th>\n",
       "    </tr>\n",
       "  </thead>\n",
       "  <tbody>\n",
       "    <tr>\n",
       "      <th>0</th>\n",
       "      <td>2014</td>\n",
       "      <td>6.333333</td>\n",
       "    </tr>\n",
       "    <tr>\n",
       "      <th>1</th>\n",
       "      <td>2015</td>\n",
       "      <td>5.258333</td>\n",
       "    </tr>\n",
       "    <tr>\n",
       "      <th>2</th>\n",
       "      <td>2016</td>\n",
       "      <td>4.850000</td>\n",
       "    </tr>\n",
       "    <tr>\n",
       "      <th>3</th>\n",
       "      <td>2017</td>\n",
       "      <td>4.675000</td>\n",
       "    </tr>\n",
       "  </tbody>\n",
       "</table>\n",
       "</div>"
      ],
      "text/plain": [
       "   Date  NY Unemployment Rate\n",
       "0  2014              6.333333\n",
       "1  2015              5.258333\n",
       "2  2016              4.850000\n",
       "3  2017              4.675000"
      ]
     },
     "execution_count": 10,
     "metadata": {},
     "output_type": "execute_result"
    }
   ],
   "source": [
    "cleaned_ny_unemployment_rate.head()\n",
    "\n",
    "#create new dataframe with columns needed for line graph\n",
    "ny_unemployment_rate = pd.DataFrame(cleaned_ny_unemployment_rate, columns = [\"Date\", \"NY Unemployment Rate\"])\n",
    "\n",
    "#convert the  date to datetime to be able to extract year\n",
    "ny_unemployment_rate['Date'] = pd.to_datetime(ny_unemployment_rate['Date'])\n",
    "\n",
    "#only extract the year from the date column\n",
    "ny_unemployment_rate['Date'] = ny_unemployment_rate['Date'].dt.year\n",
    "\n",
    "#select only years 2014-2017\n",
    "ny_2014_2017 = (ny_unemployment_rate[\"Date\"] >= 2014) & (ny_unemployment_rate[\"Date\"] <= 2017)\n",
    "\n",
    "ny_2014_2017_1 = ny_unemployment_rate.loc[ny_2014_2017]\n",
    "\n",
    "#groupby the year\n",
    "ny_groupby_2014_2017 = ny_2014_2017_1.groupby([\"Date\"])\n",
    "\n",
    "#take the average unemployment rate of each year \n",
    "ny_groupby_2014_2017 = ny_groupby_2014_2017[\"NY Unemployment Rate\"].mean()\n",
    "\n",
    "#create dataframe\n",
    "ny_groupby_2014_2017 = pd.DataFrame(ny_groupby_2014_2017)\n",
    "\n",
    "#reset the index\n",
    "ny_groupby_2014_2017 = ny_groupby_2014_2017.reset_index()\n",
    "ny_groupby_2014_2017"
   ]
  },
  {
   "cell_type": "code",
   "execution_count": 13,
   "metadata": {},
   "outputs": [
    {
     "data": {
      "image/png": "[encoded data removed]",
      "text/plain": [
       "<Figure size 576x360 with 1 Axes>"
      ]
     },
     "metadata": {
      "needs_background": "light"
     },
     "output_type": "display_data"
    }
   ],
   "source": [
    "#create the line graph\n",
    "\n",
    "#define plot area\n",
    "plt.figure(figsize=(8,5))\n",
    "\n",
    "#set X and Y axis\n",
    "x_axis = ny_groupby_2014_2017[\"Date\"]\n",
    "y_axis = ny_groupby_2014_2017 [\"NY Unemployment Rate\"]\n",
    "\n",
    "#set tick locations\n",
    "plt.xticks(np.arange(min(years), max(years+1), 1.0))\n",
    "\n",
    "#plot the line graph\n",
    "ny_unemployment, = plt.plot(x_axis, y_axis, marker='o', color='r', label='New York')\n",
    "\n",
    "#label the graph\n",
    "plt.title(\"New York vs. Unemployment Rate 2014-2017\", fontsize=14, fontweight = \"bold\")\n",
    "plt.xlabel(\"Year\", fontsize=12, fontweight = \"bold\")\n",
    "plt.ylabel(\"Average Unemployment Rate(%)\", fontsize=12, fontweight = \"bold\")\n",
    "plt.grid()\n",
    "\n",
    "#save figure\n",
    "plt.savefig(\"Images/NY_UnemploymentRate.png\")"
   ]
  },
  {
   "cell_type": "code",
   "execution_count": null,
   "metadata": {},
   "outputs": [],
   "source": []
  },
  {
   "cell_type": "code",
   "execution_count": null,
   "metadata": {},
   "outputs": [],
   "source": []
  }
 ],
 "metadata": {
  "kernelspec": {
   "display_name": "Python 3",
   "language": "python",
   "name": "python3"
  },
  "language_info": {
   "codemirror_mode": {
    "name": "ipython",
    "version": 3
   },
   "file_extension": ".py",
   "mimetype": "text/x-python",
   "name": "python",
   "nbconvert_exporter": "python",
   "pygments_lexer": "ipython3",
   "version": "3.7.1"
  }
 },
 "nbformat": 4,
 "nbformat_minor": 2
}
