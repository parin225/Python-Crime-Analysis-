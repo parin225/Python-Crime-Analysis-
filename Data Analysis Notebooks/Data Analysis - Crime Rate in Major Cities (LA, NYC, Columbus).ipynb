{
 "cells": [
  {
   "cell_type": "markdown",
   "metadata": {},
   "source": [
    "# Load Dependencies"
   ]
  },
  {
   "cell_type": "code",
   "execution_count": 1,
   "metadata": {},
   "outputs": [],
   "source": [
    "#%matplotlib notebook\n",
    "%matplotlib inline\n",
    "\n",
    "#dependencies and setup\n",
    "\n",
    "import matplotlib.pyplot as plt\n",
    "import pandas as pd\n",
    "import numpy as np\n",
    "import os"
   ]
  },
  {
   "cell_type": "markdown",
   "metadata": {},
   "source": [
    "# Files to Load"
   ]
  },
  {
   "cell_type": "code",
   "execution_count": 2,
   "metadata": {},
   "outputs": [
    {
     "name": "stderr",
     "output_type": "stream",
     "text": [
      "/Users/parinmody/Desktop/anaconda3/envs/PythonData/lib/python3.7/site-packages/IPython/core/interactiveshell.py:3020: DtypeWarning: Columns (20) have mixed types. Specify dtype option on import or set low_memory=False.\n",
      "  interactivity=interactivity, compiler=compiler, result=result)\n"
     ]
    }
   ],
   "source": [
    "#Files to Load\n",
    "cleaned_poverty_df = 'Cleaned_Data/cleaned_poverty_df.csv'\n",
    "cleaned_unemployment_df = 'Cleaned_Data/cleaned_unemployment_df.csv'\n",
    "cleaned_unemployment_rate_df = 'Cleaned_Data/cleaned_unemployment_rate_df.csv'\n",
    "crime_df = 'Cleaned_Data/crime_df.csv'\n",
    "crime_police_merged = 'Cleaned_Data/crime_police_merged.csv'\n",
    "police_count_2014_2017_df = 'Cleaned_Data/police_count_2014_2017_df.csv'\n",
    "police_df = 'Cleaned_Data/police_df.csv'\n",
    "cleaned_ny_unemployment_rate = 'Cleaned_Data/cleaned_ny_unemployment_rate.csv'\n",
    "cleaned_ohio_unemployment_rate = 'Cleaned_Data/cleaned_ohio_unemployment_rate.csv'\n",
    "\n",
    "#Files to Read\n",
    "cleaned_poverty_df = pd.read_csv(cleaned_poverty_df)\n",
    "cleaned_unemployment_df = pd.read_csv(cleaned_unemployment_df)\n",
    "cleaned_unemployment_rate_df = pd.read_csv(cleaned_unemployment_rate_df)\n",
    "crime_df = pd.read_csv(crime_df)\n",
    "crime_police_merged = pd.read_csv(crime_police_merged)\n",
    "police_count_2014_2017_df = pd.read_csv(police_count_2014_2017_df)\n",
    "police_df = pd.read_csv(police_df)\n",
    "cleaned_ny_unemployment_rate = pd.read_csv(cleaned_ny_unemployment_rate)\n",
    "cleaned_ohio_unemployment_rate = pd.read_csv(cleaned_ohio_unemployment_rate)\n"
   ]
  },
  {
   "cell_type": "markdown",
   "metadata": {},
   "source": [
    "# Crime Rate in Major Cities (LA, NYC, Columbus)"
   ]
  },
  {
   "cell_type": "code",
   "execution_count": 3,
   "metadata": {},
   "outputs": [],
   "source": [
    "#create new dataframe with information needed from existing dataframe\n",
    "major_cities = pd.DataFrame(crime_df, columns = ['Agency Name', 'Offense Categories'])\n",
    "\n",
    "#set index to the city name in order to filter out multiple cities at once\n",
    "major_cities.set_index(\"Agency Name\", inplace=True)\n",
    "\n",
    "#filter out cities to only extract the ones needed\n",
    "major_cities = major_cities.loc[[\"Los Angeles\", \"New York\", \"Columbus\"]] \n",
    "\n",
    "#reset the index\n",
    "major_cities = major_cities.reset_index()"
   ]
  },
  {
   "cell_type": "code",
   "execution_count": 4,
   "metadata": {},
   "outputs": [],
   "source": [
    "#ASSAULT:\n",
    "#only filter out assault crimes and groupby filtered cities\n",
    "assault =  major_cities.loc[major_cities[\"Offense Categories\"] == \"Assault\"]\n",
    "\n",
    "assault_1 = assault.groupby([\"Agency Name\"])\n",
    "\n",
    "#count number of assault offenses in filtered cities\n",
    "assault_total = assault_1.count()\n",
    "\n",
    "#rename column to easily extract information for stacked bar chart\n",
    "assault_total = assault_total.rename(columns={'Offense Categories': \"Assault\"})\n",
    "\n",
    "#reset index \n",
    "assault_total = assault_total.reset_index()"
   ]
  },
  {
   "cell_type": "code",
   "execution_count": 5,
   "metadata": {},
   "outputs": [],
   "source": [
    "#BURGLARY:\n",
    "#only filter out burglary crimes and groupby filtered cities\n",
    "burglary =  major_cities.loc[major_cities[\"Offense Categories\"] == \"Burglary/Breaking & Entering\"]\n",
    "\n",
    "burglary_1 = burglary.groupby([\"Agency Name\"])\n",
    "\n",
    "#count number of assault offenses in filtered cities\n",
    "burglary_total = burglary_1.count()\n",
    "\n",
    "#rename column to easily extract information for stacked bar chart\n",
    "burglary_total = burglary_total.rename(columns={'Offense Categories': \"Burglary\"})\n",
    "\n",
    "#reset index \n",
    "burglary_total = burglary_total.reset_index()"
   ]
  },
  {
   "cell_type": "code",
   "execution_count": 6,
   "metadata": {},
   "outputs": [],
   "source": [
    "#DESTRUCTION: \n",
    "#only filter out destruction crimes and groupby filtered cities\n",
    "destruction =  major_cities.loc[major_cities[\"Offense Categories\"] == \"Destruction/Damage/Vandalism of Property\"]\n",
    "\n",
    "destruction_1 = destruction.groupby([\"Agency Name\"])\n",
    "\n",
    "#count number of assault offenses in filtered cities\n",
    "destruction_total = destruction_1.count()\n",
    "\n",
    "#rename column to easily extract information for stacked bar chart\n",
    "destruction_total = destruction_total.rename(columns={'Offense Categories': \"Destruction\"})\n",
    "\n",
    "#reset index \n",
    "destruction_total = destruction_total.reset_index()"
   ]
  },
  {
   "cell_type": "code",
   "execution_count": 7,
   "metadata": {},
   "outputs": [],
   "source": [
    "#ROBBERY:\n",
    "#only filter out robbery crimes and groupby filtered cities\n",
    "robbery =  major_cities.loc[major_cities[\"Offense Categories\"] == \"Robbery\"]\n",
    "\n",
    "robbery_1 = robbery.groupby([\"Agency Name\"])\n",
    "\n",
    "#count number of assault offenses in filtered cities\n",
    "robbery_total = robbery_1.count()\n",
    "\n",
    "#rename column to easily extract information for stacked bar chart\n",
    "robbery_total = robbery_total.rename(columns={'Offense Categories': \"Robbery\"})\n",
    "\n",
    "#reset index \n",
    "robbery_total = robbery_total.reset_index()"
   ]
  },
  {
   "cell_type": "code",
   "execution_count": 8,
   "metadata": {},
   "outputs": [],
   "source": [
    "#INTIMIDATION:\n",
    "#only filter out intimidation crimes and groupby filtered cities\n",
    "intimidation =  major_cities.loc[major_cities[\"Offense Categories\"] == \"Intimidation\"]\n",
    "\n",
    "intimidation_1 = intimidation.groupby([\"Agency Name\"])\n",
    "\n",
    "#count number of assault offenses in filtered cities\n",
    "intimidation_total = intimidation_1.count()\n",
    "\n",
    "#rename column to easily extract information for stacked bar chart\n",
    "intimidation_total = intimidation_total.rename(columns={'Offense Categories': \"Intimidation\"})\n",
    "\n",
    "#reset index\n",
    "intimidation_total = intimidation_total.reset_index()"
   ]
  },
  {
   "cell_type": "markdown",
   "metadata": {},
   "source": [
    "# Stacked Bar Chart"
   ]
  },
  {
   "cell_type": "code",
   "execution_count": 11,
   "metadata": {},
   "outputs": [
    {
     "data": {
      "image/png": "[encoded data removed]",
      "text/plain": [
       "<Figure size 432x288 with 1 Axes>"
      ]
     },
     "metadata": {
      "needs_background": "light"
     },
     "output_type": "display_data"
    }
   ],
   "source": [
    "#CREATE STACKED BAR CHART\n",
    "\n",
    "#extract specific information for each bar\n",
    "bar1 = assault_total[\"Assault\"]\n",
    "bar2 = burglary_total[\"Burglary\"]\n",
    "bar3= destruction_total[\"Destruction\"]\n",
    "bar4 = robbery_total[\"Robbery\"]\n",
    "bar5 = intimidation_total[\"Intimidation\"]\n",
    "\n",
    "#the position of the bars on the x-axis\n",
    "r = [0,1,2]\n",
    " \n",
    "#names of group and bar width\n",
    "names = ['Columbus', 'Los Angeles', 'New York']\n",
    "barWidth = 1\n",
    " \n",
    "#create bar 1\n",
    "plt.bar(r, bar1, color ='orange', edgecolor='white', width=barWidth, label=\"Assault\")\n",
    "#create bar 2\n",
    "plt.bar(r, bar2, bottom=bar1, color='blue', edgecolor='white', width=barWidth, label=\"Burglary\")\n",
    "#create bar 3\n",
    "plt.bar(r, bar3, color='skyblue', bottom=bar1+bar2, edgecolor='white', width=barWidth, label=\"Destruction\")\n",
    "#create bar 4\n",
    "plt.bar(r, bar4, color='green', bottom=bar1+bar2+bar3, edgecolor='white', width=barWidth, label=\"Robbery\")\n",
    "#create bar 5\n",
    "plt.bar(r, bar5, color='gray', bottom=bar1+bar2+bar3+bar4, edgecolor='white', width=barWidth, label=\"Intimidation\")\n",
    " \n",
    "#name the ticks on x-axis\n",
    "plt.xticks(r, names)\n",
    "\n",
    "#label the graph\n",
    "plt.xlabel(\"Major Cities\", fontweight='bold')\n",
    "plt.ylabel(\"Number of Offenses\", fontweight='bold')\n",
    "plt.title (\"Number of Offenses in Major Cities\", fontweight='bold')\n",
    "\n",
    "#plot the legend in best location\n",
    "plt.legend(loc=\"best\")\n",
    "\n",
    "#save figure\n",
    "plt.savefig(\"Images/Offenses_Major_Cities.png\")\n",
    "\n",
    "#show graph\n",
    "plt.show()"
   ]
  },
  {
   "cell_type": "code",
   "execution_count": null,
   "metadata": {},
   "outputs": [],
   "source": []
  }
 ],
 "metadata": {
  "kernelspec": {
   "display_name": "Python 3",
   "language": "python",
   "name": "python3"
  },
  "language_info": {
   "codemirror_mode": {
    "name": "ipython",
    "version": 3
   },
   "file_extension": ".py",
   "mimetype": "text/x-python",
   "name": "python",
   "nbconvert_exporter": "python",
   "pygments_lexer": "ipython3",
   "version": "3.7.1"
  }
 },
 "nbformat": 4,
 "nbformat_minor": 2
}
