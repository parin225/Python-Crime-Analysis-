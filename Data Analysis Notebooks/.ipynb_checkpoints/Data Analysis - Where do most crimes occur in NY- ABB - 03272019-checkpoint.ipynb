{
 "cells": [
  {
   "cell_type": "markdown",
   "metadata": {},
   "source": [
    "# Load Dependencies"
   ]
  },
  {
   "cell_type": "code",
   "execution_count": 1,
   "metadata": {},
   "outputs": [],
   "source": [
    "#%matplotlib notebook\n",
    "%matplotlib inline\n",
    "\n",
    "#dependencies and setup\n",
    "\n",
    "import matplotlib.pyplot as plt\n",
    "import pandas as pd\n",
    "import numpy as np\n",
    "import os"
   ]
  },
  {
   "cell_type": "markdown",
   "metadata": {},
   "source": [
    "# Files to Load"
   ]
  },
  {
   "cell_type": "code",
   "execution_count": 2,
   "metadata": {},
   "outputs": [
    {
     "name": "stderr",
     "output_type": "stream",
     "text": [
      "C:\\Users\\asher\\Anaconda3\\envs\\PythonData\\lib\\site-packages\\IPython\\core\\interactiveshell.py:3020: DtypeWarning: Columns (20) have mixed types. Specify dtype option on import or set low_memory=False.\n",
      "  interactivity=interactivity, compiler=compiler, result=result)\n"
     ]
    }
   ],
   "source": [
    "#Files to Load\n",
    "cleaned_poverty_df = 'Cleaned_Data/cleaned_poverty_df.csv'\n",
    "cleaned_unemployment_df = 'Cleaned_Data/cleaned_unemployment_df.csv'\n",
    "cleaned_unemployment_rate_df = 'Cleaned_Data/cleaned_unemployment_rate_df.csv'\n",
    "crime_df = 'Cleaned_Data/crime_df.csv'\n",
    "crime_police_merged = 'Cleaned_Data/crime_police_merged.csv'\n",
    "police_count_2014_2017_df = 'Cleaned_Data/police_count_2014_2017_df.csv'\n",
    "police_df = 'Cleaned_Data/police_df.csv'\n",
    "\n",
    "#Files to Read\n",
    "cleaned_poverty_df = pd.read_csv(cleaned_poverty_df)\n",
    "cleaned_unemployment_df = pd.read_csv(cleaned_unemployment_df)\n",
    "cleaned_unemployment_rate_df = pd.read_csv(cleaned_unemployment_rate_df)\n",
    "crime_df = pd.read_csv(crime_df)\n",
    "crime_police_merged = pd.read_csv(crime_police_merged)\n",
    "police_count_2014_2017_df = pd.read_csv(police_count_2014_2017_df)\n",
    "police_df = pd.read_csv(police_df)"
   ]
  },
  {
   "cell_type": "markdown",
   "metadata": {},
   "source": [
    "# Where do most crimes occur in NY?"
   ]
  },
  {
   "cell_type": "code",
   "execution_count": 3,
   "metadata": {},
   "outputs": [],
   "source": [
    "#create new dataframe with information needed from existing dataframe\n",
    "crime_locations = pd.DataFrame(crime_df, columns = ['State', 'Location Categories'])\n",
    "\n",
    "#set index to the city name in order to filter out multiple cities at once\n",
    "crime_locations.set_index(\"State\", inplace=True)\n",
    "\n",
    "#filter out states to only extract the ones needed\n",
    "crime_locations = crime_locations.loc[[\"New York\"]] "
   ]
  },
  {
   "cell_type": "code",
   "execution_count": 4,
   "metadata": {},
   "outputs": [
    {
     "ename": "NameError",
     "evalue": "name 'commercial_office_total' is not defined",
     "output_type": "error",
     "traceback": [
      "\u001b[1;31m---------------------------------------------------------------------------\u001b[0m",
      "\u001b[1;31mNameError\u001b[0m                                 Traceback (most recent call last)",
      "\u001b[1;32m<ipython-input-4-91afa470c109>\u001b[0m in \u001b[0;36m<module>\u001b[1;34m\u001b[0m\n\u001b[0;32m     11\u001b[0m \u001b[1;33m\u001b[0m\u001b[0m\n\u001b[0;32m     12\u001b[0m \u001b[1;31m#reset index\u001b[0m\u001b[1;33m\u001b[0m\u001b[1;33m\u001b[0m\u001b[1;33m\u001b[0m\u001b[0m\n\u001b[1;32m---> 13\u001b[1;33m \u001b[0mcommercial_office_total\u001b[0m \u001b[1;33m=\u001b[0m \u001b[0mcommercial_office_total\u001b[0m\u001b[1;33m.\u001b[0m\u001b[0mreset_index\u001b[0m\u001b[1;33m(\u001b[0m\u001b[1;33m)\u001b[0m\u001b[1;33m\u001b[0m\u001b[1;33m\u001b[0m\u001b[0m\n\u001b[0m",
      "\u001b[1;31mNameError\u001b[0m: name 'commercial_office_total' is not defined"
     ]
    }
   ],
   "source": [
    "#COMMERCIAL/OFFICE BUILDING: \n",
    "#only filter out crimes that occured in commercial/office buildings\n",
    "commercial_office = crime_locations.loc[crime_locations[\"Location Categories\"] == \"Commercial/Office Building\"]\n",
    "\n",
    "#count the number of crimes in commercial/office buildings in NY\n",
    "commercial_office = commercial_office.count()\n",
    "\n",
    "#rename column to easily extract information for stacked bar chart\n",
    "commercial_office = commercial_office.rename(columns={'Location Categories': \"Commercial/Office\"})\n",
    "\n",
    "\n",
    "#reset index \n",
    "commercial_office_total = commercial_office_total.reset_index()"
   ]
  },
  {
   "cell_type": "code",
   "execution_count": 5,
   "metadata": {},
   "outputs": [
    {
     "ename": "NameError",
     "evalue": "name 'outdoors_total' is not defined",
     "output_type": "error",
     "traceback": [
      "\u001b[1;31m---------------------------------------------------------------------------\u001b[0m",
      "\u001b[1;31mNameError\u001b[0m                                 Traceback (most recent call last)",
      "\u001b[1;32m<ipython-input-5-663955361adb>\u001b[0m in \u001b[0;36m<module>\u001b[1;34m\u001b[0m\n\u001b[0;32m      7\u001b[0m \u001b[1;33m\u001b[0m\u001b[0m\n\u001b[0;32m      8\u001b[0m \u001b[1;31m#rename column to easily extract information for stacked bar chart\u001b[0m\u001b[1;33m\u001b[0m\u001b[1;33m\u001b[0m\u001b[1;33m\u001b[0m\u001b[0m\n\u001b[1;32m----> 9\u001b[1;33m \u001b[0moutdoors_total\u001b[0m \u001b[1;33m=\u001b[0m \u001b[0moutdoors_total\u001b[0m\u001b[1;33m.\u001b[0m\u001b[0mrename\u001b[0m\u001b[1;33m(\u001b[0m\u001b[0mcolumns\u001b[0m\u001b[1;33m=\u001b[0m\u001b[1;33m{\u001b[0m\u001b[1;34m'Location Categories'\u001b[0m\u001b[1;33m:\u001b[0m \u001b[1;34m\"Outdoors\"\u001b[0m\u001b[1;33m}\u001b[0m\u001b[1;33m)\u001b[0m\u001b[1;33m\u001b[0m\u001b[1;33m\u001b[0m\u001b[0m\n\u001b[0m\u001b[0;32m     10\u001b[0m \u001b[1;33m\u001b[0m\u001b[0m\n\u001b[0;32m     11\u001b[0m \u001b[1;31m#reset index\u001b[0m\u001b[1;33m\u001b[0m\u001b[1;33m\u001b[0m\u001b[1;33m\u001b[0m\u001b[0m\n",
      "\u001b[1;31mNameError\u001b[0m: name 'outdoors_total' is not defined"
     ]
    }
   ],
   "source": [
    "#HIGHWAY/ROAD/ALLEY/STREET/SIDEWALK: \n",
    "#only filter out crimes that occured outdoors \n",
    "outdoors = crime_locations.loc[crime_locations[\"Location Categories\"] == \"Highway/Road/Alley/Street/Sidewalk\"]\n",
    "\n",
    "#count number of crimes that occured outdoors in NY\n",
    "outdoors = outdoors.count()\n",
    "\n",
    "#rename column to easily extract information for stacked bar chart\n",
    "outdoors_total = outdoors_total.rename(columns={'Location Categories': \"Outdoors\"})\n",
    "\n",
    "#reset index \n",
    "outdoors_total = outdoors_total.reset_index()"
   ]
  },
  {
   "cell_type": "code",
   "execution_count": 6,
   "metadata": {},
   "outputs": [
    {
     "ename": "NameError",
     "evalue": "name 'unknown_total' is not defined",
     "output_type": "error",
     "traceback": [
      "\u001b[1;31m---------------------------------------------------------------------------\u001b[0m",
      "\u001b[1;31mNameError\u001b[0m                                 Traceback (most recent call last)",
      "\u001b[1;32m<ipython-input-6-bd89868342e6>\u001b[0m in \u001b[0;36m<module>\u001b[1;34m\u001b[0m\n\u001b[0;32m      7\u001b[0m \u001b[1;33m\u001b[0m\u001b[0m\n\u001b[0;32m      8\u001b[0m \u001b[1;31m#rename column to easily extract information for stacked bar chart\u001b[0m\u001b[1;33m\u001b[0m\u001b[1;33m\u001b[0m\u001b[1;33m\u001b[0m\u001b[0m\n\u001b[1;32m----> 9\u001b[1;33m \u001b[0munknown_total\u001b[0m \u001b[1;33m=\u001b[0m \u001b[0munknown_total\u001b[0m\u001b[1;33m.\u001b[0m\u001b[0mrename\u001b[0m\u001b[1;33m(\u001b[0m\u001b[0mcolumns\u001b[0m\u001b[1;33m=\u001b[0m\u001b[1;33m{\u001b[0m\u001b[1;34m'Location Categories'\u001b[0m\u001b[1;33m:\u001b[0m \u001b[1;34m\"Unknown\"\u001b[0m\u001b[1;33m}\u001b[0m\u001b[1;33m)\u001b[0m\u001b[1;33m\u001b[0m\u001b[1;33m\u001b[0m\u001b[0m\n\u001b[0m\u001b[0;32m     10\u001b[0m \u001b[1;33m\u001b[0m\u001b[0m\n\u001b[0;32m     11\u001b[0m \u001b[1;31m#reset index\u001b[0m\u001b[1;33m\u001b[0m\u001b[1;33m\u001b[0m\u001b[1;33m\u001b[0m\u001b[0m\n",
      "\u001b[1;31mNameError\u001b[0m: name 'unknown_total' is not defined"
     ]
    }
   ],
   "source": [
    "#OTHER/UNKNOWN: \n",
    "#only filter out crimes that occured in unknown locations\n",
    "unknown = crime_locations.loc[crime_locations[\"Location Categories\"] == \"Other/Unknown\"]\n",
    "\n",
    "#count number of crimes that occured in unknown locations in NY\n",
    "unknown = unknown.count()\n",
    "\n",
    "#rename column to easily extract information for stacked bar chart\n",
    "unknown_total = unknown_total.rename(columns={'Location Categories': \"Unknown\"})\n",
    "\n",
    "#reset index \n",
    "unknown_total = unknown_total.reset_index()"
   ]
  },
  {
   "cell_type": "code",
   "execution_count": 7,
   "metadata": {},
   "outputs": [
    {
     "ename": "NameError",
     "evalue": "name 'residence_total' is not defined",
     "output_type": "error",
     "traceback": [
      "\u001b[1;31m---------------------------------------------------------------------------\u001b[0m",
      "\u001b[1;31mNameError\u001b[0m                                 Traceback (most recent call last)",
      "\u001b[1;32m<ipython-input-7-44232adfd005>\u001b[0m in \u001b[0;36m<module>\u001b[1;34m\u001b[0m\n\u001b[0;32m      7\u001b[0m \u001b[1;33m\u001b[0m\u001b[0m\n\u001b[0;32m      8\u001b[0m \u001b[1;31m#rename column to easily extract information for stacked bar chart\u001b[0m\u001b[1;33m\u001b[0m\u001b[1;33m\u001b[0m\u001b[1;33m\u001b[0m\u001b[0m\n\u001b[1;32m----> 9\u001b[1;33m \u001b[0mresidence_total\u001b[0m \u001b[1;33m=\u001b[0m \u001b[0mresidence_total\u001b[0m\u001b[1;33m.\u001b[0m\u001b[0mrename\u001b[0m\u001b[1;33m(\u001b[0m\u001b[0mcolumns\u001b[0m\u001b[1;33m=\u001b[0m\u001b[1;33m{\u001b[0m\u001b[1;34m'Location Categories'\u001b[0m\u001b[1;33m:\u001b[0m \u001b[1;34m\"Residences\"\u001b[0m\u001b[1;33m}\u001b[0m\u001b[1;33m)\u001b[0m\u001b[1;33m\u001b[0m\u001b[1;33m\u001b[0m\u001b[0m\n\u001b[0m\u001b[0;32m     10\u001b[0m \u001b[1;33m\u001b[0m\u001b[0m\n\u001b[0;32m     11\u001b[0m \u001b[1;31m#reset index\u001b[0m\u001b[1;33m\u001b[0m\u001b[1;33m\u001b[0m\u001b[1;33m\u001b[0m\u001b[0m\n",
      "\u001b[1;31mNameError\u001b[0m: name 'residence_total' is not defined"
     ]
    }
   ],
   "source": [
    "#RESIDENCE/HOME: \n",
    "#only filter out crimes that occured in residences/homes \n",
    "residence = crime_locations.loc[crime_locations[\"Location Categories\"] == \"Residence/Home\"]\n",
    "\n",
    "#count number of crimes that occured in residences/homes within filtered states\n",
    "residence = residence.count()\n",
    "\n",
    "#rename column to easily extract information for stacked bar chart\n",
    "residence_total = residence_total.rename(columns={'Location Categories': \"Residences\"})\n",
    "\n",
    "#reset index \n",
    "residence_total = residence_total.reset_index()"
   ]
  },
  {
   "cell_type": "code",
   "execution_count": 8,
   "metadata": {},
   "outputs": [
    {
     "ename": "NameError",
     "evalue": "name 'school_total' is not defined",
     "output_type": "error",
     "traceback": [
      "\u001b[1;31m---------------------------------------------------------------------------\u001b[0m",
      "\u001b[1;31mNameError\u001b[0m                                 Traceback (most recent call last)",
      "\u001b[1;32m<ipython-input-8-664e54b8e79f>\u001b[0m in \u001b[0;36m<module>\u001b[1;34m\u001b[0m\n\u001b[0;32m      7\u001b[0m \u001b[1;33m\u001b[0m\u001b[0m\n\u001b[0;32m      8\u001b[0m \u001b[1;31m#rename column to easily extract information for stacked bar chart\u001b[0m\u001b[1;33m\u001b[0m\u001b[1;33m\u001b[0m\u001b[1;33m\u001b[0m\u001b[0m\n\u001b[1;32m----> 9\u001b[1;33m \u001b[0mschool_total\u001b[0m \u001b[1;33m=\u001b[0m \u001b[0mschool_total\u001b[0m\u001b[1;33m.\u001b[0m\u001b[0mrename\u001b[0m\u001b[1;33m(\u001b[0m\u001b[0mcolumns\u001b[0m\u001b[1;33m=\u001b[0m\u001b[1;33m{\u001b[0m\u001b[1;34m'Location Categories'\u001b[0m\u001b[1;33m:\u001b[0m \u001b[1;34m\"Schools\"\u001b[0m\u001b[1;33m}\u001b[0m\u001b[1;33m)\u001b[0m\u001b[1;33m\u001b[0m\u001b[1;33m\u001b[0m\u001b[0m\n\u001b[0m\u001b[0;32m     10\u001b[0m \u001b[1;33m\u001b[0m\u001b[0m\n\u001b[0;32m     11\u001b[0m \u001b[1;31m#reset index\u001b[0m\u001b[1;33m\u001b[0m\u001b[1;33m\u001b[0m\u001b[1;33m\u001b[0m\u001b[0m\n",
      "\u001b[1;31mNameError\u001b[0m: name 'school_total' is not defined"
     ]
    }
   ],
   "source": [
    "#SCHOOL/COLLEGE: \n",
    "#only filter out crimes that occured in schools/colleges \n",
    "school = crime_locations.loc[crime_locations[\"Location Categories\"] == \"School/College\"]\n",
    "\n",
    "#count number of crimes that occured in schools/colleges in NY\n",
    "school = school.count()\n",
    "\n",
    "#rename column to easily extract information for stacked bar chart\n",
    "school_total = school_total.rename(columns={'Location Categories': \"Schools\"})\n",
    "\n",
    "#reset index \n",
    "school_total = school_total.reset_index()"
   ]
  },
  {
   "cell_type": "markdown",
   "metadata": {},
   "source": [
    "# Stacked Bar Chart"
   ]
  },
  {
   "cell_type": "code",
   "execution_count": 9,
   "metadata": {},
   "outputs": [
    {
     "data": {
      "image/png": "[encoded data removed]",
      "text/plain": [
       "<Figure size 432x288 with 1 Axes>"
      ]
     },
     "metadata": {
      "needs_background": "light"
     },
     "output_type": "display_data"
    }
   ],
   "source": [
    "#CREATE STACKED BAR CHART\n",
    "\n",
    "#extract specific information for each bar\n",
    "bar1 = commercial_office[\"Commercial/Office\"]\n",
    "bar2 = outdoors_total[\"Outdoors\"]\n",
    "bar3= unknown_total[\"Unknown\"]\n",
    "bar4 = residence_total [\"Residences\"]\n",
    "bar5 = school_total[\"Schools\"]\n",
    "\n",
    "\n",
    "#the position of the bars on the x-axis\n",
    "r = [0]\n",
    " \n",
    "#names of group and bar width\n",
    "names = ['New York']\n",
    "barWidth = 1\n",
    " \n",
    "#create bar 1\n",
    "plt.bar(r, bar1, color ='blue', edgecolor='white', width=barWidth, label=\"Commercial/Office\")\n",
    "#create bar 2\n",
    "plt.bar(r, bar2, bottom=bar1, color='black', edgecolor='white', width=barWidth, label=\"Highway/Road/Alley/Street/Sidewalk\")\n",
    "#create bar 3\n",
    "plt.bar(r, bar3, color='pink', bottom=bar1+bar2, edgecolor='white', width=barWidth, label=\"Other/Unknown\")\n",
    "#create bar 4\n",
    "plt.bar(r, bar4, color='yellow', bottom=bar1+bar2+bar3, edgecolor='white', width=barWidth, label=\"Residence/HOme\")\n",
    "#create bar 5\n",
    "plt.bar(r, bar5, color='gray', bottom=bar1+bar2+bar3+bar4, edgecolor='white', width=barWidth, label=\"School/College\")\n",
    " \n",
    "#name the ticks on x-axis\n",
    "plt.xticks(r, names)\n",
    "\n",
    "#label the graph\n",
    "plt.xlabel(\"Top 3 States\", fontweight='bold')\n",
    "plt.ylabel(\"Number of Offenses\", fontweight='bold')\n",
    "plt.title (\"Number of Offenses in Locations within Top\\n 3 States With Highest Crime\", fontweight='bold')\n",
    "\n",
    "#plot the legend in best location\n",
    "plt.legend(loc=\"best\")\n",
    "\n",
    "#show graph\n",
    "plt.show()"
   ]
  },
  {
   "cell_type": "code",
   "execution_count": null,
   "metadata": {},
   "outputs": [],
   "source": []
  }
 ],
 "metadata": {
  "kernelspec": {
   "display_name": "Python 3",
   "language": "python",
   "name": "python3"
  },
  "language_info": {
   "codemirror_mode": {
    "name": "ipython",
    "version": 3
   },
   "file_extension": ".py",
   "mimetype": "text/x-python",
   "name": "python",
   "nbconvert_exporter": "python",
   "pygments_lexer": "ipython3",
   "version": "3.7.1"
  }
 },
 "nbformat": 4,
 "nbformat_minor": 2
}
