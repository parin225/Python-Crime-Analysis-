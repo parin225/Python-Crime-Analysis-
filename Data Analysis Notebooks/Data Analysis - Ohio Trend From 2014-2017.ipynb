{
 "cells": [
  {
   "cell_type": "markdown",
   "metadata": {},
   "source": [
    "# Load Dependencies"
   ]
  },
  {
   "cell_type": "code",
   "execution_count": 4,
   "metadata": {},
   "outputs": [],
   "source": [
    "#%matplotlib notebook\n",
    "%matplotlib inline\n",
    "\n",
    "#dependencies and setup\n",
    "\n",
    "import matplotlib.pyplot as plt\n",
    "import pandas as pd\n",
    "import numpy as np\n",
    "import os"
   ]
  },
  {
   "cell_type": "markdown",
   "metadata": {},
   "source": [
    "# Files to Load"
   ]
  },
  {
   "cell_type": "code",
   "execution_count": 5,
   "metadata": {},
   "outputs": [
    {
     "name": "stderr",
     "output_type": "stream",
     "text": [
      "/Users/parinmody/Desktop/anaconda3/envs/PythonData/lib/python3.7/site-packages/IPython/core/interactiveshell.py:3020: DtypeWarning: Columns (20) have mixed types. Specify dtype option on import or set low_memory=False.\n",
      "  interactivity=interactivity, compiler=compiler, result=result)\n"
     ]
    }
   ],
   "source": [
    "#Files to Load\n",
    "cleaned_poverty_df = 'Cleaned_Data/cleaned_poverty_df.csv'\n",
    "cleaned_unemployment_df = 'Cleaned_Data/cleaned_unemployment_df.csv'\n",
    "cleaned_unemployment_rate_df = 'Cleaned_Data/cleaned_unemployment_rate_df.csv'\n",
    "crime_df = 'Cleaned_Data/crime_df.csv'\n",
    "crime_police_merged = 'Cleaned_Data/crime_police_merged.csv'\n",
    "police_count_2014_2017_df = 'Cleaned_Data/police_count_2014_2017_df.csv'\n",
    "police_df = 'Cleaned_Data/police_df.csv'\n",
    "cleaned_ny_unemployment_rate = 'Cleaned_Data/cleaned_ny_unemployment_rate.csv'\n",
    "cleaned_ohio_unemployment_rate = 'Cleaned_Data/cleaned_ohio_unemployment_rate.csv'\n",
    "\n",
    "#Files to Read\n",
    "cleaned_poverty_df = pd.read_csv(cleaned_poverty_df)\n",
    "cleaned_unemployment_df = pd.read_csv(cleaned_unemployment_df)\n",
    "cleaned_unemployment_rate_df = pd.read_csv(cleaned_unemployment_rate_df)\n",
    "crime_df = pd.read_csv(crime_df)\n",
    "crime_police_merged = pd.read_csv(crime_police_merged)\n",
    "police_count_2014_2017_df = pd.read_csv(police_count_2014_2017_df)\n",
    "police_df = pd.read_csv(police_df)\n",
    "cleaned_ny_unemployment_rate = pd.read_csv(cleaned_ny_unemployment_rate)\n",
    "cleaned_ohio_unemployment_rate = pd.read_csv(cleaned_ohio_unemployment_rate)\n"
   ]
  },
  {
   "cell_type": "markdown",
   "metadata": {},
   "source": [
    "# Ohio Crime Trend From 2014-2017"
   ]
  },
  {
   "cell_type": "code",
   "execution_count": 7,
   "metadata": {},
   "outputs": [
    {
     "data": {
      "text/html": [
       "<div>\n",
       "<style scoped>\n",
       "    .dataframe tbody tr th:only-of-type {\n",
       "        vertical-align: middle;\n",
       "    }\n",
       "\n",
       "    .dataframe tbody tr th {\n",
       "        vertical-align: top;\n",
       "    }\n",
       "\n",
       "    .dataframe thead th {\n",
       "        text-align: right;\n",
       "    }\n",
       "</style>\n",
       "<table border=\"1\" class=\"dataframe\">\n",
       "  <thead>\n",
       "    <tr style=\"text-align: right;\">\n",
       "      <th></th>\n",
       "      <th>Year</th>\n",
       "      <th>Total Offender Count</th>\n",
       "    </tr>\n",
       "  </thead>\n",
       "  <tbody>\n",
       "    <tr>\n",
       "      <th>0</th>\n",
       "      <td>2014</td>\n",
       "      <td>378</td>\n",
       "    </tr>\n",
       "    <tr>\n",
       "      <th>1</th>\n",
       "      <td>2015</td>\n",
       "      <td>358</td>\n",
       "    </tr>\n",
       "    <tr>\n",
       "      <th>2</th>\n",
       "      <td>2016</td>\n",
       "      <td>407</td>\n",
       "    </tr>\n",
       "    <tr>\n",
       "      <th>3</th>\n",
       "      <td>2017</td>\n",
       "      <td>350</td>\n",
       "    </tr>\n",
       "  </tbody>\n",
       "</table>\n",
       "</div>"
      ],
      "text/plain": [
       "   Year  Total Offender Count\n",
       "0  2014                   378\n",
       "1  2015                   358\n",
       "2  2016                   407\n",
       "3  2017                   350"
      ]
     },
     "execution_count": 7,
     "metadata": {},
     "output_type": "execute_result"
    }
   ],
   "source": [
    "crime_df.head()\n",
    "\n",
    "#create new dataframe with columns needed for line graph\n",
    "df = pd.DataFrame(crime_df, columns = ['Year', 'State', 'Total Offender Count'])\n",
    "\n",
    "#select only years 2014-2017\n",
    "only_year_2014_2017_3 = (df[\"Year\"] >= 2014) & (df[\"Year\"] <= 2017)\n",
    "\n",
    "crime_df_3 = df.loc[only_year_2014_2017_3]\n",
    "\n",
    "#select only Ohio from the dataframe \n",
    "only_ohio = crime_df_3.loc[crime_df[\"State\"] == \"Ohio\", :]\n",
    "\n",
    "#only_ohio.head()\n",
    "\n",
    "#groupby the year\n",
    "groupby_year_3 = only_ohio.groupby([\"Year\"])\n",
    "\n",
    "#take the sum of total offender count after using groupby\n",
    "crime_count_2014_3 = groupby_year_3[\"Total Offender Count\"].sum()\n",
    "\n",
    "#convert from series to dataframe\n",
    "crime_count_2014_3 = pd.DataFrame(crime_count_2014_3)\n",
    "\n",
    "#reset the index\n",
    "crime_count_2014_3 = crime_count_2014_3.reset_index()\n",
    "\n",
    "crime_count_2014_3 "
   ]
  },
  {
   "cell_type": "code",
   "execution_count": 13,
   "metadata": {},
   "outputs": [
    {
     "data": {
      "image/png": "[encoded data removed]",
      "text/plain": [
       "<Figure size 432x288 with 1 Axes>"
      ]
     },
     "metadata": {
      "needs_background": "light"
     },
     "output_type": "display_data"
    }
   ],
   "source": [
    "#set the x axis\n",
    "years = (crime_count_2014_3[\"Year\"])\n",
    "\n",
    "#set the y axis\n",
    "crime = (crime_count_2014_3[\"Total Offender Count\"])\n",
    "\n",
    "#plot the line graph for California \n",
    "\n",
    "bar_chart = plt.bar(years, crime, color=\"g\", align=\"center\")\n",
    "\n",
    "#set tick locations\n",
    "plt.xticks(np.arange(min(years), max(years+1), 1.0))\n",
    "\n",
    "def label_function(labels):\n",
    "    for label in labels:\n",
    "        height = label.get_height()\n",
    "        label_position = height - 50\n",
    "        plt.text(label.get_x() + label.get_width()/2., label_position,\n",
    "                 height, color='white', ha='center', va='bottom')\n",
    "\n",
    "label_function(bar_chart)\n",
    "\n",
    "#set labels\n",
    "plt.title(\"Ohio vs. Hate Crime Rate\", fontsize=14, fontweight = \"bold\")\n",
    "plt.xlabel(\"Year\", fontsize=12, fontweight = \"bold\")\n",
    "plt.ylabel(\"Hate Crime Count\", fontsize=12, fontweight = \"bold\")\n",
    "\n",
    "#save figure\n",
    "plt.savefig(\"Images/OH_CrimeRate.png\")"
   ]
  },
  {
   "cell_type": "code",
   "execution_count": 10,
   "metadata": {},
   "outputs": [],
   "source": [
    "cleaned_ohio_unemployment_rate.head()\n",
    "\n",
    "#create new dataframe with columns needed for line graph\n",
    "oh_unemployment_rate = pd.DataFrame(cleaned_ohio_unemployment_rate, columns = [\"Date\", \"Ohio Unemployment Rate\"])\n",
    "\n",
    "#convert the  date to datetime to be able to extract year\n",
    "oh_unemployment_rate['Date'] = pd.to_datetime(oh_unemployment_rate['Date'])\n",
    "\n",
    "#only extract the year from the date column\n",
    "oh_unemployment_rate['Date'] = oh_unemployment_rate['Date'].dt.year\n",
    "\n",
    "#select only years 2014-2017\n",
    "oh_2014_2017 = (oh_unemployment_rate[\"Date\"] >= 2014) & (oh_unemployment_rate[\"Date\"] <= 2017)\n",
    "\n",
    "oh_2014_2017_1 = oh_unemployment_rate.loc[oh_2014_2017]\n",
    "\n",
    "#groupby the year\n",
    "oh_groupby_2014_2017 = oh_2014_2017_1.groupby([\"Date\"])\n",
    "\n",
    "#take the average unemployment rate of each year \n",
    "oh_groupby_2014_2017 = oh_groupby_2014_2017[\"Ohio Unemployment Rate\"].mean()\n",
    "\n",
    "#create dataframe\n",
    "oh_groupby_2014_2017 = pd.DataFrame(oh_groupby_2014_2017)\n",
    "\n",
    "#reset the index\n",
    "oh_groupby_2014_2017 = oh_groupby_2014_2017.reset_index()"
   ]
  },
  {
   "cell_type": "code",
   "execution_count": 12,
   "metadata": {},
   "outputs": [
    {
     "data": {
      "image/png": "[encoded data removed]",
      "text/plain": [
       "<Figure size 576x360 with 1 Axes>"
      ]
     },
     "metadata": {
      "needs_background": "light"
     },
     "output_type": "display_data"
    }
   ],
   "source": [
    "#create the line graph\n",
    "\n",
    "#define plot area\n",
    "plt.figure(figsize=(8,5))\n",
    "\n",
    "#set X and Y axis\n",
    "x_axis = oh_groupby_2014_2017[\"Date\"]\n",
    "y_axis = oh_groupby_2014_2017 [\"Ohio Unemployment Rate\"]\n",
    "\n",
    "#set tick locations\n",
    "plt.xticks(np.arange(min(years), max(years+1), 1.0))\n",
    "\n",
    "#plot the line graph\n",
    "oh_unemployment, = plt.plot(x_axis, y_axis, marker='o', color='g', label='Ohio')\n",
    "\n",
    "#label the graph\n",
    "plt.title(\"Ohio vs. Unemployment Rate 2014-2017\", fontsize=14, fontweight = \"bold\")\n",
    "plt.xlabel(\"Year\", fontsize=12, fontweight = \"bold\")\n",
    "plt.ylabel(\"Average Unemployment Rate(%)\", fontsize=12, fontweight = \"bold\")\n",
    "plt.grid()\n",
    "\n",
    "#save figure\n",
    "plt.savefig(\"Images/OH_UnemploymentRate.png\")"
   ]
  },
  {
   "cell_type": "code",
   "execution_count": null,
   "metadata": {},
   "outputs": [],
   "source": []
  }
 ],
 "metadata": {
  "kernelspec": {
   "display_name": "Python 3",
   "language": "python",
   "name": "python3"
  },
  "language_info": {
   "codemirror_mode": {
    "name": "ipython",
    "version": 3
   },
   "file_extension": ".py",
   "mimetype": "text/x-python",
   "name": "python",
   "nbconvert_exporter": "python",
   "pygments_lexer": "ipython3",
   "version": "3.7.1"
  }
 },
 "nbformat": 4,
 "nbformat_minor": 2
}
